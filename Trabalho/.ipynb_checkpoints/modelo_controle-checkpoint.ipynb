{
 "cells": [
  {
   "cell_type": "markdown",
   "metadata": {},
   "source": [
    "# Trabalho final Controle I\n",
    "\n",
    "## Modelo completo\n",
    "\n",
    "![Figura 1](./Figuras/modelo_completo.png)\n",
    "\n",
    "## Modelo mesa\n",
    "\n",
    "![Figura 2](./Figuras/modelo_mesa.png)\n",
    "\n",
    "## Modelo eixo\n",
    "\n",
    "![Figura 3](./Figuras/modelo_eixo.png)"
   ]
  },
  {
   "cell_type": "code",
   "execution_count": 76,
   "metadata": {},
   "outputs": [],
   "source": [
    "import sympy as sp\n",
    "import numpy as np\n",
    "import matplotlib.pyplot as plt\n",
    "import control.matlab as co"
   ]
  },
  {
   "cell_type": "code",
   "execution_count": 2,
   "metadata": {},
   "outputs": [],
   "source": [
    "## Figura 2\n",
    "\n",
    "M, C_l = sp.symbols(\"M C_l\")\n",
    "f_m, f_c = sp.symbols(\"f_{mesa} f_{corte}\")\n",
    "t = sp.Symbol(\"t\")\n",
    "\n",
    "x = sp.Function('x')(t)\n",
    "xp = sp.Function('\\dot{x}')(t)\n",
    "xpp = sp.Function('\\ddot{x}')(t)\n",
    "\n",
    "## Figura 3\n",
    "\n",
    "J_f, C_th, k_eq = sp.symbols(r\"J_f C_{\\theta} k_{eq}\")\n",
    "p_f = sp.Symbol(\"p_f\")\n",
    "\n",
    "theta_f = sp.Function(r\"\\theta_f\")(t)\n",
    "theta_fp = sp.Function(r\"\\dot{\\theta_f}\")(t)\n",
    "theta_fpp = sp.Function(r\"\\ddot{\\theta_f}\")(t)\n",
    "\n",
    "theta_m = sp.Function(r\"\\theta_m\")(t)\n",
    "theta_mp = sp.Function(r\"\\dot{\\theta_m}\")(t)\n",
    "theta_mpp = sp.Function(r\"\\ddot{\\theta_m}\")(t)\n",
    "\n",
    "## Constantes de torção\n",
    "\n",
    "k_th_a = sp.Symbol(r\"k_{\\theta a}\")\n",
    "k_th_f = sp.Symbol(r\"k_{\\theta f}\")\n",
    "k_th_f_0 = sp.Symbol(r\"k_{\\theta f 0}\")\n",
    "l_0 = sp.Symbol(\"l_0\")"
   ]
  },
  {
   "cell_type": "code",
   "execution_count": 3,
   "metadata": {},
   "outputs": [
    {
     "data": {
      "text/latex": [
       "$\\displaystyle C_{l} \\dot{x}{\\left(t \\right)} + M x{\\left(t \\right)} = f_{corte} + f_{mesa}$"
      ],
      "text/plain": [
       "Eq(C_l*\\dot{x}(t) + M*x(t), f_{corte} + f_{mesa})"
      ]
     },
     "execution_count": 3,
     "metadata": {},
     "output_type": "execute_result"
    }
   ],
   "source": [
    "eq1 = sp.Eq(M*x+C_l*xp, f_m+f_c)\n",
    "eq1"
   ]
  },
  {
   "cell_type": "code",
   "execution_count": 4,
   "metadata": {},
   "outputs": [
    {
     "data": {
      "text/latex": [
       "$\\displaystyle C_{\\theta} \\left(\\dot{\\theta_f}{\\left(t \\right)} - \\dot{\\theta_m}{\\left(t \\right)}\\right) + J_{f} \\ddot{\\theta_f}{\\left(t \\right)} + k_{eq} \\left(\\theta_{f}{\\left(t \\right)} - \\theta_{m}{\\left(t \\right)}\\right) = - f_{mesa} p_{f}$"
      ],
      "text/plain": [
       "Eq(C_{\\theta}*(\\dot{\\theta_f}(t) - \\dot{\\theta_m}(t)) + J_f*\\ddot{\\theta_f}(t) + k_{eq}*(\\theta_f(t) - \\theta_m(t)), -f_{mesa}*p_f)"
      ]
     },
     "execution_count": 4,
     "metadata": {},
     "output_type": "execute_result"
    }
   ],
   "source": [
    "eq2 = sp.Eq(J_f*theta_fpp + C_th*(theta_fp - theta_mp) + k_eq*(theta_f - theta_m), -f_m*p_f)\n",
    "eq2"
   ]
  },
  {
   "cell_type": "code",
   "execution_count": 5,
   "metadata": {},
   "outputs": [
    {
     "data": {
      "text/latex": [
       "$\\displaystyle \\frac{1}{k_{eq}} = \\frac{1}{k_{\\theta f}} + \\frac{1}{k_{\\theta a}}$"
      ],
      "text/plain": [
       "Eq(1/k_{eq}, 1/k_{\\theta f} + 1/k_{\\theta a})"
      ]
     },
     "execution_count": 5,
     "metadata": {},
     "output_type": "execute_result"
    }
   ],
   "source": [
    "def1 = sp.Eq(1/k_eq, 1/k_th_a + 1/k_th_f)\n",
    "def1"
   ]
  },
  {
   "cell_type": "code",
   "execution_count": 6,
   "metadata": {},
   "outputs": [
    {
     "data": {
      "text/latex": [
       "$\\displaystyle x{\\left(t \\right)} = p_{f} \\theta_{f}{\\left(t \\right)}$"
      ],
      "text/plain": [
       "Eq(x(t), p_f*\\theta_f(t))"
      ]
     },
     "execution_count": 6,
     "metadata": {},
     "output_type": "execute_result"
    }
   ],
   "source": [
    "def2 = sp.Eq(x, theta_f*p_f)\n",
    "def2"
   ]
  },
  {
   "cell_type": "code",
   "execution_count": 7,
   "metadata": {},
   "outputs": [
    {
     "data": {
      "text/latex": [
       "$\\displaystyle k_{\\theta f} = k_{\\theta f 0} \\left(1.08 - \\frac{0.75}{l_{0}}\\right)$"
      ],
      "text/plain": [
       "Eq(k_{\\theta f}, k_{\\theta f 0}*(1.08 - 0.75/l_0))"
      ]
     },
     "execution_count": 7,
     "metadata": {},
     "output_type": "execute_result"
    }
   ],
   "source": [
    "def3 = sp.Eq(k_th_f, k_th_f_0*(1.08 - x/l_0))\n",
    "def3 = sp.Eq(k_th_f, k_th_f_0*(1.08 - 0.75/l_0))\n",
    "def3"
   ]
  },
  {
   "cell_type": "code",
   "execution_count": 8,
   "metadata": {},
   "outputs": [],
   "source": [
    "v_m = sp.Function(\"v_m\")(t)\n",
    "i = sp.Function(\"i\")(t)\n",
    "ip = sp.Function(r\"\\frac{d}{dt}i\")(t)\n",
    "\n",
    "L, R, k_cem = sp.symbols(\"L R k_{cem}\")\n",
    "\n",
    "J_m, tau_m, k_m = sp.symbols(r\"J_m \\tau_m k_m\")"
   ]
  },
  {
   "cell_type": "code",
   "execution_count": 9,
   "metadata": {},
   "outputs": [
    {
     "data": {
      "text/latex": [
       "$\\displaystyle \\operatorname{v_{m}}{\\left(t \\right)} = L \\frac{d}{dt}i{\\left(t \\right)} + R i{\\left(t \\right)} + k_{cem} \\dot{\\theta_m}{\\left(t \\right)}$"
      ],
      "text/plain": [
       "Eq(v_m(t), L*\\frac{d}{dt}i(t) + R*i(t) + k_{cem}*\\dot{\\theta_m}(t))"
      ]
     },
     "execution_count": 9,
     "metadata": {},
     "output_type": "execute_result"
    }
   ],
   "source": [
    "eq3 = sp.Eq(v_m, L*ip + R*i + k_cem*theta_mp)\n",
    "eq3"
   ]
  },
  {
   "cell_type": "code",
   "execution_count": 10,
   "metadata": {},
   "outputs": [
    {
     "data": {
      "text/latex": [
       "$\\displaystyle \\tau_m = k_{m} i{\\left(t \\right)}$"
      ],
      "text/plain": [
       "Eq(\\tau_m, k_m*i(t))"
      ]
     },
     "execution_count": 10,
     "metadata": {},
     "output_type": "execute_result"
    }
   ],
   "source": [
    "def4 = sp.Eq(tau_m, k_m*i)\n",
    "def4"
   ]
  },
  {
   "cell_type": "code",
   "execution_count": 11,
   "metadata": {},
   "outputs": [
    {
     "data": {
      "text/latex": [
       "$\\displaystyle J_{m} \\ddot{\\theta_m}{\\left(t \\right)} = - C_{\\theta} \\left(- \\dot{\\theta_f}{\\left(t \\right)} + \\dot{\\theta_m}{\\left(t \\right)}\\right) + \\tau_m - k_{eq} \\left(- \\theta_{f}{\\left(t \\right)} + \\theta_{m}{\\left(t \\right)}\\right)$"
      ],
      "text/plain": [
       "Eq(J_m*\\ddot{\\theta_m}(t), -C_{\\theta}*(-\\dot{\\theta_f}(t) + \\dot{\\theta_m}(t)) + \\tau_m - k_{eq}*(-\\theta_f(t) + \\theta_m(t)))"
      ]
     },
     "execution_count": 11,
     "metadata": {},
     "output_type": "execute_result"
    }
   ],
   "source": [
    "eq4 = sp.Eq(J_m*theta_mpp, tau_m - C_th*(theta_mp-theta_fp) - k_eq*(theta_m - theta_f))\n",
    "eq4"
   ]
  },
  {
   "cell_type": "code",
   "execution_count": 12,
   "metadata": {},
   "outputs": [],
   "source": [
    "parametros = [\n",
    "    (M, 40),\n",
    "    (C_l, 50),\n",
    "    (p_f, 0.03),\n",
    "    (l_0, 1.5),\n",
    "    (J_f, 9.4e-4),\n",
    "    (k_th_f_0, 1.2e4),\n",
    "    (k_th_a, 42),\n",
    "    (C_th, 0.3),\n",
    "    (J_m, 2.3e-6),\n",
    "    (k_m, 2),\n",
    "    (k_cem, 0.5),\n",
    "    (R, 9),\n",
    "    (L, 0.006),\n",
    "]"
   ]
  },
  {
   "cell_type": "code",
   "execution_count": 13,
   "metadata": {},
   "outputs": [],
   "source": [
    "definicoes = [\n",
    "    (def1, k_eq),\n",
    "    (def3, k_th_f),\n",
    "    (def4, tau_m)\n",
    "]"
   ]
  },
  {
   "cell_type": "code",
   "execution_count": 14,
   "metadata": {},
   "outputs": [],
   "source": [
    "sistema = [\n",
    "    eq1,\n",
    "    eq2,\n",
    "    eq3,\n",
    "    eq4,\n",
    "]"
   ]
  },
  {
   "cell_type": "code",
   "execution_count": 15,
   "metadata": {},
   "outputs": [],
   "source": [
    "def solve_and_subs(defs):\n",
    "    retlist = [None]*len(defs)\n",
    "    for i, definition in enumerate(defs):\n",
    "        solution = sp.solveset(*definition)\n",
    "        retval = None\n",
    "        if solution.is_Complement:\n",
    "            retval = solution.args[0].args[0]\n",
    "        else:\n",
    "            retval = solution.args[0]\n",
    "        a = definition[1]\n",
    "        retlist[i] = (definition[1], retval)\n",
    "\n",
    "    return retlist\n",
    "\n",
    "parametros2 = solve_and_subs(definicoes)"
   ]
  },
  {
   "cell_type": "code",
   "execution_count": 16,
   "metadata": {},
   "outputs": [],
   "source": [
    "solution = sp.solveset(def2, theta_f).args[0]\n",
    "\n",
    "theta_f_subs = [\n",
    "    (theta_f, solution),\n",
    "    (theta_fp, solution.subs(x, xp)),\n",
    "    (theta_fpp, solution.subs(x, xpp)),\n",
    "]"
   ]
  },
  {
   "cell_type": "code",
   "execution_count": 17,
   "metadata": {},
   "outputs": [],
   "source": [
    "all_subs = [*theta_f_subs, *parametros2, *parametros]\n",
    "\n",
    "def batch_subs(sist, subs_list):\n",
    "    retsis = sist.copy()\n",
    "    for subs_tuple in subs_list:\n",
    "        for i, _ in enumerate(retsis):\n",
    "            retsis[i] = retsis[i].subs(*subs_tuple)\n",
    "    return retsis\n",
    "\n",
    "sistema_limpo = batch_subs(sistema, all_subs)"
   ]
  },
  {
   "cell_type": "code",
   "execution_count": 18,
   "metadata": {},
   "outputs": [
    {
     "data": {
      "text/latex": [
       "$\\displaystyle f_{corte} + f_{mesa} = 50.0 \\dot{x}{\\left(t \\right)} + 40.0 x{\\left(t \\right)}$"
      ],
      "text/plain": [
       "Eq(f_{corte} + f_{mesa}, 50.0*\\dot{x}(t) + 40.0*x(t))"
      ]
     },
     "metadata": {},
     "output_type": "display_data"
    },
    {
     "data": {
      "text/latex": [
       "$\\displaystyle 0.03 f_{mesa} = - 0.031 \\ddot{x}{\\left(t \\right)} + 0.3 \\dot{\\theta_m}{\\left(t \\right)} - 10.0 \\dot{x}{\\left(t \\right)} + 42.0 \\theta_{m}{\\left(t \\right)} - 1.4 \\cdot 10^{3} x{\\left(t \\right)}$"
      ],
      "text/plain": [
       "Eq(0.03*f_{mesa}, -0.031*\\ddot{x}(t) + 0.3*\\dot{\\theta_m}(t) - 10.0*\\dot{x}(t) + 42.0*\\theta_m(t) - 1.4e+3*x(t))"
      ]
     },
     "metadata": {},
     "output_type": "display_data"
    },
    {
     "data": {
      "text/latex": [
       "$\\displaystyle \\operatorname{v_{m}}{\\left(t \\right)} = 0.5 \\dot{\\theta_m}{\\left(t \\right)} + 0.006 \\frac{d}{dt}i{\\left(t \\right)} + 9.0 i{\\left(t \\right)}$"
      ],
      "text/plain": [
       "Eq(v_m(t), 0.5*\\dot{\\theta_m}(t) + 0.006*\\frac{d}{dt}i(t) + 9.0*i(t))"
      ]
     },
     "metadata": {},
     "output_type": "display_data"
    },
    {
     "data": {
      "text/latex": [
       "$\\displaystyle 2.3 \\cdot 10^{-6} \\ddot{\\theta_m}{\\left(t \\right)} = - 0.3 \\dot{\\theta_m}{\\left(t \\right)} + 10.0 \\dot{x}{\\left(t \\right)} - 42.0 \\theta_{m}{\\left(t \\right)} + 2.0 i{\\left(t \\right)} + 1.4 \\cdot 10^{3} x{\\left(t \\right)}$"
      ],
      "text/plain": [
       "Eq(2.3e-6*\\ddot{\\theta_m}(t), -0.3*\\dot{\\theta_m}(t) + 10.0*\\dot{x}(t) - 42.0*\\theta_m(t) + 2.0*i(t) + 1.4e+3*x(t))"
      ]
     },
     "metadata": {},
     "output_type": "display_data"
    }
   ],
   "source": [
    "for eq in sistema_limpo:\n",
    "    display(sp.simplify(eq.evalf(2)))"
   ]
  },
  {
   "cell_type": "code",
   "execution_count": 19,
   "metadata": {},
   "outputs": [],
   "source": [
    "## Laplace transform\n",
    "s = sp.Symbol(\"s\")\n",
    "\n",
    "F = sp.Function(\"F\")(s)\n",
    "V = sp.Function(\"V\")(s)\n",
    "\n",
    "I = sp.Function(\"I\")(s)\n",
    "X = sp.Function(\"X\")(s)\n",
    "Theta = sp.Function(r\"\\Theta\")(s)\n",
    "\n",
    "laplace_tuples = [\n",
    "    (f_c, F),\n",
    "    (v_m, V),\n",
    "    \n",
    "    (x, X),\n",
    "    (xp, X*s),    \n",
    "    (xpp, X*s**2),\n",
    "        \n",
    "    (i, I),\n",
    "    (ip, I*s),\n",
    "    \n",
    "    (theta_m, Theta),\n",
    "    (theta_mp, Theta*s),\n",
    "    (theta_mpp, Theta*s**2),\n",
    "]"
   ]
  },
  {
   "cell_type": "code",
   "execution_count": 20,
   "metadata": {},
   "outputs": [
    {
     "data": {
      "text/latex": [
       "$\\displaystyle f_{mesa} + F{\\left(s \\right)} = 10 \\left(5 s + 4\\right) X{\\left(s \\right)}$"
      ],
      "text/plain": [
       "Eq(f_{mesa} + F(s), 10*(5*s + 4)*X(s))"
      ]
     },
     "metadata": {},
     "output_type": "display_data"
    },
    {
     "data": {
      "text/latex": [
       "$\\displaystyle 0.03 f_{mesa} = - 0.0313333333333333 s^{2} X{\\left(s \\right)} - 10.0 s X{\\left(s \\right)} + 0.3 s \\Theta{\\left(s \\right)} - 1391.60239931448 X{\\left(s \\right)} + 41.7480719794344 \\Theta{\\left(s \\right)}$"
      ],
      "text/plain": [
       "Eq(0.03*f_{mesa}, -0.0313333333333333*s**2*X(s) - 10.0*s*X(s) + 0.3*s*\\Theta(s) - 1391.60239931448*X(s) + 41.7480719794344*\\Theta(s))"
      ]
     },
     "metadata": {},
     "output_type": "display_data"
    },
    {
     "data": {
      "text/latex": [
       "$\\displaystyle V{\\left(s \\right)} = 0.006 s I{\\left(s \\right)} + 0.5 s \\Theta{\\left(s \\right)} + 9 I{\\left(s \\right)}$"
      ],
      "text/plain": [
       "Eq(V(s), 0.006*s*I(s) + 0.5*s*\\Theta(s) + 9*I(s))"
      ]
     },
     "metadata": {},
     "output_type": "display_data"
    },
    {
     "data": {
      "text/latex": [
       "$\\displaystyle 2.3 \\cdot 10^{-6} s^{2} \\Theta{\\left(s \\right)} = 10.0 s X{\\left(s \\right)} - 0.3 s \\Theta{\\left(s \\right)} + 2 I{\\left(s \\right)} + 1391.60239931448 X{\\left(s \\right)} - 41.7480719794344 \\Theta{\\left(s \\right)}$"
      ],
      "text/plain": [
       "Eq(2.3e-6*s**2*\\Theta(s), 10.0*s*X(s) - 0.3*s*\\Theta(s) + 2*I(s) + 1391.60239931448*X(s) - 41.7480719794344*\\Theta(s))"
      ]
     },
     "metadata": {},
     "output_type": "display_data"
    }
   ],
   "source": [
    "laplace_system = batch_subs(sistema_limpo, laplace_tuples)\n",
    "    \n",
    "for eq in laplace_system:\n",
    "    display(sp.simplify(eq))"
   ]
  },
  {
   "cell_type": "code",
   "execution_count": 21,
   "metadata": {},
   "outputs": [
    {
     "data": {
      "text/latex": [
       "$\\displaystyle \\left\\{50 s X{\\left(s \\right)} - F{\\left(s \\right)} + 40 X{\\left(s \\right)}\\right\\}$"
      ],
      "text/plain": [
       "FiniteSet(50*s*X(s) - F(s) + 40*X(s))"
      ]
     },
     "metadata": {},
     "output_type": "display_data"
    }
   ],
   "source": [
    "f_m_sol = sp.solveset(laplace_system[0], f_m)\n",
    "display(f_m_sol)"
   ]
  },
  {
   "cell_type": "code",
   "execution_count": 22,
   "metadata": {},
   "outputs": [
    {
     "data": {
      "text/latex": [
       "$\\displaystyle 1.5 s X{\\left(s \\right)} - 0.03 F{\\left(s \\right)} + 1.2 X{\\left(s \\right)} = - 0.0313333333333333 s^{2} X{\\left(s \\right)} - 10.0 s X{\\left(s \\right)} + 0.3 s \\Theta{\\left(s \\right)} - 1391.60239931448 X{\\left(s \\right)} + 41.7480719794344 \\Theta{\\left(s \\right)}$"
      ],
      "text/plain": [
       "Eq(1.5*s*X(s) - 0.03*F(s) + 1.2*X(s), -0.0313333333333333*s**2*X(s) - 10.0*s*X(s) + 0.3*s*\\Theta(s) - 1391.60239931448*X(s) + 41.7480719794344*\\Theta(s))"
      ]
     },
     "metadata": {},
     "output_type": "display_data"
    },
    {
     "data": {
      "text/latex": [
       "$\\displaystyle V{\\left(s \\right)} = 0.006 s I{\\left(s \\right)} + 0.5 s \\Theta{\\left(s \\right)} + 9 I{\\left(s \\right)}$"
      ],
      "text/plain": [
       "Eq(V(s), 0.006*s*I(s) + 0.5*s*\\Theta(s) + 9*I(s))"
      ]
     },
     "metadata": {},
     "output_type": "display_data"
    },
    {
     "data": {
      "text/latex": [
       "$\\displaystyle 2.3 \\cdot 10^{-6} s^{2} \\Theta{\\left(s \\right)} = 10.0 s X{\\left(s \\right)} - 0.3 s \\Theta{\\left(s \\right)} + 2 I{\\left(s \\right)} + 1391.60239931448 X{\\left(s \\right)} - 41.7480719794344 \\Theta{\\left(s \\right)}$"
      ],
      "text/plain": [
       "Eq(2.3e-6*s**2*\\Theta(s), 10.0*s*X(s) - 0.3*s*\\Theta(s) + 2*I(s) + 1391.60239931448*X(s) - 41.7480719794344*\\Theta(s))"
      ]
     },
     "metadata": {},
     "output_type": "display_data"
    }
   ],
   "source": [
    "laplace_system_step1 = batch_subs(laplace_system, [(f_m, f_m_sol.args[0])])[1:]\n",
    "\n",
    "for eq in laplace_system_step1:\n",
    "    display(sp.simplify(eq))"
   ]
  },
  {
   "cell_type": "code",
   "execution_count": 123,
   "metadata": {},
   "outputs": [
    {
     "data": {
      "text/latex": [
       "$\\displaystyle X{\\left(s \\right)} = \\frac{\\left(3.4 \\cdot 10^{-21} s^{4} + 0.0094 s^{3} + 4.8 s^{2} + 9.0 \\cdot 10^{2} s + 5.8 \\cdot 10^{4}\\right) V{\\left(s \\right)} + \\left(6.5 \\cdot 10^{-12} s^{5} + 8.6 \\cdot 10^{-7} s^{4} + 0.0022 s^{3} + 0.9 s^{2} + 1.5 \\cdot 10^{2} s + 7.8 \\cdot 10^{3}\\right) F{\\left(s \\right)}}{6.8 \\cdot 10^{-12} s^{7} + 9.0 \\cdot 10^{-7} s^{6} + 0.0023 s^{5} + 1.2 s^{4} + 2.8 \\cdot 10^{2} s^{3} + 3.1 \\cdot 10^{4} s^{2} + 1.4 \\cdot 10^{6} s + 3.1 \\cdot 10^{5}}$"
      ],
      "text/plain": [
       "Eq(X(s), ((3.4e-21*s**4 + 0.0094*s**3 + 4.8*s**2 + 9.0e+2*s + 5.8e+4)*V(s) + (6.5e-12*s**5 + 8.6e-7*s**4 + 0.0022*s**3 + 0.9*s**2 + 1.5e+2*s + 7.8e+3)*F(s))/(6.8e-12*s**7 + 9.0e-7*s**6 + 0.0023*s**5 + 1.2*s**4 + 2.8e+2*s**3 + 3.1e+4*s**2 + 1.4e+6*s + 3.1e+5))"
      ]
     },
     "metadata": {},
     "output_type": "display_data"
    },
    {
     "name": "stdout",
     "output_type": "stream",
     "text": [
      "\n"
     ]
    },
    {
     "data": {
      "text/latex": [
       "$\\displaystyle \\Theta{\\left(s \\right)} = \\frac{\\left(0.0009 s^{2} + 1.5 s + 1.9 \\cdot 10^{2}\\right) F{\\left(s \\right)} + \\left(0.031 s^{2} + 12.0 s + 1.4 \\cdot 10^{3}\\right) V{\\left(s \\right)}}{2.2 \\cdot 10^{-10} s^{5} + 2.9 \\cdot 10^{-5} s^{4} + 0.063 s^{3} + 14.0 s^{2} + 9.8 \\cdot 10^{2} s + 2.3 \\cdot 10^{2}}$"
      ],
      "text/plain": [
       "Eq(\\Theta(s), ((0.0009*s**2 + 1.5*s + 1.9e+2)*F(s) + (0.031*s**2 + 12.0*s + 1.4e+3)*V(s))/(2.2e-10*s**5 + 2.9e-5*s**4 + 0.063*s**3 + 14.0*s**2 + 9.8e+2*s + 2.3e+2))"
      ]
     },
     "metadata": {},
     "output_type": "display_data"
    },
    {
     "name": "stdout",
     "output_type": "stream",
     "text": [
      "\n"
     ]
    },
    {
     "data": {
      "text/latex": [
       "$\\displaystyle I{\\left(s \\right)} = \\frac{\\left(- 0.15 s^{2} - 21.0 s\\right) F{\\left(s \\right)} + \\left(7.2 \\cdot 10^{-8} s^{4} + 0.0094 s^{3} + 1.8 s^{2} + 63.0 s + 50.0\\right) V{\\left(s \\right)}}{4.3 \\cdot 10^{-10} s^{5} + 5.7 \\cdot 10^{-5} s^{4} + 0.13 s^{3} + 28.0 s^{2} + 2.0 \\cdot 10^{3} s + 4.5 \\cdot 10^{2}}$"
      ],
      "text/plain": [
       "Eq(I(s), ((-0.15*s**2 - 21.0*s)*F(s) + (7.2e-8*s**4 + 0.0094*s**3 + 1.8*s**2 + 63.0*s + 50.0)*V(s))/(4.3e-10*s**5 + 5.7e-5*s**4 + 0.13*s**3 + 28.0*s**2 + 2.0e+3*s + 4.5e+2))"
      ]
     },
     "metadata": {},
     "output_type": "display_data"
    },
    {
     "name": "stdout",
     "output_type": "stream",
     "text": [
      "\n"
     ]
    }
   ],
   "source": [
    "sol_vars = [X, Theta, I]\n",
    "\n",
    "la_solution = sp.linsolve(laplace_system_step1, sol_vars)\n",
    "\n",
    "for var, eq in zip(sol_vars, la_solution.args[0]):\n",
    "    por_em_evidencia = eq.collect(V).collect(F)\n",
    "    display(sp.Eq(var, por_em_evidencia.evalf(2)))\n",
    "    print()"
   ]
  },
  {
   "cell_type": "markdown",
   "metadata": {},
   "source": [
    "Utilizando a convenção\n",
    "\n",
    "$$\n",
    "X(s) = G(s)V_m(s) + G_d(s)F_{corte}(s)\n",
    "$$"
   ]
  },
  {
   "cell_type": "code",
   "execution_count": 94,
   "metadata": {},
   "outputs": [],
   "source": [
    "num_G, den_G = sp.fraction(la_solution.args[0][0].subs(F, 0).subs(V, 1))"
   ]
  },
  {
   "cell_type": "code",
   "execution_count": 95,
   "metadata": {},
   "outputs": [],
   "source": [
    "den_coefs_G = np.array([np.double(n) for n in sp.poly(den_G).as_list()])\n",
    "num_coefs_G = np.array([np.double(n) for n in sp.poly(num_G).as_list()])"
   ]
  },
  {
   "cell_type": "code",
   "execution_count": 96,
   "metadata": {},
   "outputs": [],
   "source": [
    "num_Gd, den_Gd = sp.fraction(la_solution.args[0][0].subs(F, 1).subs(V, 0))"
   ]
  },
  {
   "cell_type": "code",
   "execution_count": 97,
   "metadata": {},
   "outputs": [],
   "source": [
    "den_coefs_Gd = np.array([np.double(n) for n in sp.poly(den_Gd).as_list()])\n",
    "num_coefs_Gd = np.array([np.double(n) for n in sp.poly(num_Gd).as_list()])"
   ]
  },
  {
   "cell_type": "code",
   "execution_count": 98,
   "metadata": {},
   "outputs": [
    {
     "data": {
      "text/plain": [
       "array([6.77426667e-12, 8.98734000e-07, 2.31482455e-03, 1.20302152e+00,\n",
       "       2.78412777e+02, 3.05877124e+04, 1.36749849e+06, 3.13992800e+05])"
      ]
     },
     "execution_count": 98,
     "metadata": {},
     "output_type": "execute_result"
    }
   ],
   "source": [
    "den_coefs_G"
   ]
  },
  {
   "cell_type": "code",
   "execution_count": 99,
   "metadata": {},
   "outputs": [
    {
     "data": {
      "text/plain": [
       "array([6.48600000e-12, 8.58109500e-07, 2.17108862e-03, 8.96091729e-01,\n",
       "       1.47347628e+02, 7.84982000e+03])"
      ]
     },
     "execution_count": 99,
     "metadata": {},
     "output_type": "execute_result"
    }
   ],
   "source": [
    "num_coefs_Gd"
   ]
  },
  {
   "cell_type": "code",
   "execution_count": 130,
   "metadata": {},
   "outputs": [],
   "source": [
    "LIMIAR = 1e-4\n",
    "\n",
    "num = 0\n",
    "for coef in num_coefs_G:\n",
    "    if coef < LIMIAR:\n",
    "        num += 1\n",
    "    else:\n",
    "        break\n",
    "        \n",
    "den = 0\n",
    "for coef in den_coefs_G:\n",
    "    if coef < LIMIAR:\n",
    "        den += 1\n",
    "    else:\n",
    "        break\n",
    "    \n",
    "G = 10*co.tf(num_coefs_G[num:], den_coefs_G[den:])"
   ]
  },
  {
   "cell_type": "code",
   "execution_count": 131,
   "metadata": {},
   "outputs": [],
   "source": [
    "LIMIAR = 1e-4\n",
    "\n",
    "num = 0\n",
    "for coef in num_coefs_Gd:\n",
    "    if coef < LIMIAR:\n",
    "        num += 1\n",
    "    else:\n",
    "        break\n",
    "        \n",
    "den = 0\n",
    "for coef in den_coefs_Gd:\n",
    "    if coef < LIMIAR:\n",
    "        den += 1\n",
    "    else:\n",
    "        break\n",
    "\n",
    "Gd = 10*co.tf(num_coefs_Gd[num:], den_coefs_Gd[den:])"
   ]
  },
  {
   "cell_type": "code",
   "execution_count": 132,
   "metadata": {},
   "outputs": [
    {
     "data": {
      "text/latex": [
       "$$\\frac{0.094 s^3 + 47.58 s^2 + 8979 s + 5.815 \\times 10^{5}}{0.002315 s^5 + 1.203 s^4 + 278.4 s^3 + 3.059 \\times 10^{4} s^2 + 1.367 \\times 10^{6} s + 3.14 \\times 10^{5}}$$"
      ],
      "text/plain": [
       "\n",
       "                  0.094 s^3 + 47.58 s^2 + 8979 s + 5.815e+05\n",
       "-----------------------------------------------------------------------------\n",
       "0.002315 s^5 + 1.203 s^4 + 278.4 s^3 + 3.059e+04 s^2 + 1.367e+06 s + 3.14e+05"
      ]
     },
     "execution_count": 132,
     "metadata": {},
     "output_type": "execute_result"
    }
   ],
   "source": [
    "G"
   ]
  },
  {
   "cell_type": "code",
   "execution_count": 133,
   "metadata": {},
   "outputs": [
    {
     "data": {
      "text/latex": [
       "$$\\frac{0.02171 s^3 + 8.961 s^2 + 1473 s + 7.85 \\times 10^{4}}{0.002315 s^5 + 1.203 s^4 + 278.4 s^3 + 3.059 \\times 10^{4} s^2 + 1.367 \\times 10^{6} s + 3.14 \\times 10^{5}}$$"
      ],
      "text/plain": [
       "\n",
       "                 0.02171 s^3 + 8.961 s^2 + 1473 s + 7.85e+04\n",
       "-----------------------------------------------------------------------------\n",
       "0.002315 s^5 + 1.203 s^4 + 278.4 s^3 + 3.059e+04 s^2 + 1.367e+06 s + 3.14e+05"
      ]
     },
     "execution_count": 133,
     "metadata": {},
     "output_type": "execute_result"
    }
   ],
   "source": [
    "Gd"
   ]
  },
  {
   "cell_type": "code",
   "execution_count": 134,
   "metadata": {},
   "outputs": [
    {
     "data": {
      "image/png": "[encoded data removed]",
      "text/plain": [
       "<Figure size 720x576 with 2 Axes>"
      ]
     },
     "metadata": {
      "needs_background": "light"
     },
     "output_type": "display_data"
    }
   ],
   "source": [
    "co.bode(G)\n",
    "co.bode(Gd)\n",
    "plt.rcParams[\"figure.figsize\"] = (10,8)\n",
    "plt.show()"
   ]
  },
  {
   "cell_type": "code",
   "execution_count": 142,
   "metadata": {},
   "outputs": [
    {
     "data": {
      "text/plain": [
       "{'RiseTime': 9.472207603742078,\n",
       " 'SettlingTime': 16.788880784837723,\n",
       " 'SettlingMin': 1.6655705767237563,\n",
       " 'SettlingMax': 1.850160452741751,\n",
       " 'Overshoot': 0.0,\n",
       " 'Undershoot': 0.0,\n",
       " 'Peak': 1.850160452741751,\n",
       " 'PeakTime': 30.329280115828,\n",
       " 'SteadyStateValue': 1.850160452741751}"
      ]
     },
     "execution_count": 142,
     "metadata": {},
     "output_type": "execute_result"
    },
    {
     "data": {
      "image/png": "[encoded data removed]",
      "text/plain": [
       "<Figure size 720x576 with 1 Axes>"
      ]
     },
     "metadata": {
      "needs_background": "light"
     },
     "output_type": "display_data"
    }
   ],
   "source": [
    "y, t = co.step(G)\n",
    "plt.plot(t, y)\n",
    "co.stepinfo(G)"
   ]
  },
  {
   "cell_type": "code",
   "execution_count": null,
   "metadata": {},
   "outputs": [],
   "source": []
  }
 ],
 "metadata": {
  "kernelspec": {
   "display_name": "Python 3",
   "language": "python",
   "name": "python3"
  },
  "language_info": {
   "codemirror_mode": {
    "name": "ipython",
    "version": 3
   },
   "file_extension": ".py",
   "mimetype": "text/x-python",
   "name": "python",
   "nbconvert_exporter": "python",
   "pygments_lexer": "ipython3",
   "version": "3.6.0"
  }
 },
 "nbformat": 4,
 "nbformat_minor": 4
}
